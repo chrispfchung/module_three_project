{
 "cells": [
  {
   "cell_type": "markdown",
   "metadata": {},
   "source": [
    "# Good Reads Books Dataframe"
   ]
  },
  {
   "cell_type": "markdown",
   "metadata": {},
   "source": [
    "Using BeautifulSoup and requests for webscraping."
   ]
  },
  {
   "cell_type": "code",
   "execution_count": 111,
   "metadata": {},
   "outputs": [],
   "source": [
    "from bs4 import BeautifulSoup as bs\n",
    "import urllib.request\n",
    "import requests\n",
    "import re"
   ]
  },
  {
   "cell_type": "markdown",
   "metadata": {},
   "source": [
    "Testing out the initial web page."
   ]
  },
  {
   "cell_type": "code",
   "execution_count": 2,
   "metadata": {},
   "outputs": [],
   "source": [
    "link = 'https://www.goodreads.com/book/show/39863520-how-to-date-men-when-you-hate-men'\n",
    "page = urllib.request.urlopen(link)\n",
    "\n",
    "soup = bs(page, 'html.parser')\n",
    "\n",
    "#soup.prettify()"
   ]
  },
  {
   "cell_type": "code",
   "execution_count": 3,
   "metadata": {},
   "outputs": [
    {
     "data": {
      "text/plain": [
       "<title>\n",
       "How to Date Men When You Hate Men by Blythe Roberson\n",
       "</title>"
      ]
     },
     "execution_count": 3,
     "metadata": {},
     "output_type": "execute_result"
    }
   ],
   "source": [
    "soup.title"
   ]
  },
  {
   "cell_type": "markdown",
   "metadata": {},
   "source": [
    "Get a list of URLs for 15 comments about a book."
   ]
  },
  {
   "cell_type": "code",
   "execution_count": 4,
   "metadata": {},
   "outputs": [
    {
     "data": {
      "text/plain": [
       "['https://www.goodreads.com/review/show/2485843786',\n",
       " 'https://www.goodreads.com/review/show/2526013822',\n",
       " 'https://www.goodreads.com/review/show/2531161402',\n",
       " 'https://www.goodreads.com/review/show/2523399786',\n",
       " 'https://www.goodreads.com/review/show/2659372184',\n",
       " 'https://www.goodreads.com/review/show/2528847854',\n",
       " 'https://www.goodreads.com/review/show/2557301544',\n",
       " 'https://www.goodreads.com/review/show/2510917265',\n",
       " 'https://www.goodreads.com/review/show/2663926644',\n",
       " 'https://www.goodreads.com/review/show/2592884376',\n",
       " 'https://www.goodreads.com/review/show/2559122775',\n",
       " 'https://www.goodreads.com/review/show/2549570510',\n",
       " 'https://www.goodreads.com/review/show/2553921881',\n",
       " 'https://www.goodreads.com/review/show/2553192610',\n",
       " 'https://www.goodreads.com/review/show/2654676052',\n",
       " 'https://www.goodreads.com/review/show/2523825663',\n",
       " 'https://www.goodreads.com/review/show/2612203671']"
      ]
     },
     "execution_count": 4,
     "metadata": {},
     "output_type": "execute_result"
    }
   ],
   "source": [
    "url = 'https://www.goodreads.com/book/reviews/39863520-how-to-date-men-when-you-hate-men?rating=&text_only=true'\n",
    "r = requests.get(url).content\n",
    "prefix = 'https://www.goodreads.com/review/show/'\n",
    "[prefix + x.split('\\\\')[0] for x in str(r).split(prefix)][1:]\n"
   ]
  },
  {
   "cell_type": "markdown",
   "metadata": {},
   "source": [
    "## URLs for the top books 2018"
   ]
  },
  {
   "cell_type": "markdown",
   "metadata": {},
   "source": [
    "We started by getting the webpages for the best fiction books of 2018."
   ]
  },
  {
   "cell_type": "code",
   "execution_count": 5,
   "metadata": {},
   "outputs": [],
   "source": [
    "url_2018 = 'https://www.goodreads.com/choiceawards/best-fiction-books-2018'\n",
    "r = urllib.request.urlopen(url_2018)"
   ]
  },
  {
   "cell_type": "code",
   "execution_count": 6,
   "metadata": {},
   "outputs": [],
   "source": [
    "soup = bs(r, 'html.parser')\n",
    "#soup"
   ]
  },
  {
   "cell_type": "code",
   "execution_count": 7,
   "metadata": {},
   "outputs": [],
   "source": [
    "# looking at all the divs with this class\n",
    "#soup.find('div', {\"class\":\"pollContents\"})"
   ]
  },
  {
   "cell_type": "code",
   "execution_count": 8,
   "metadata": {},
   "outputs": [],
   "source": [
    "coolcats = soup.find_all('a', {\"class\":\"pollAnswer__bookLink\"})[0]"
   ]
  },
  {
   "cell_type": "markdown",
   "metadata": {},
   "source": [
    "Making a list to get the URLs from each book on the best fiction 2018 page."
   ]
  },
  {
   "cell_type": "code",
   "execution_count": 9,
   "metadata": {},
   "outputs": [],
   "source": [
    "fiction__book_list_2018 = []\n",
    "for a in soup.find_all('a',{\"class\":\"pollAnswer__bookLink\"},  href=True):\n",
    "    fiction__book_list_2018.append('https://www.goodreads.com' + (a['href']))"
   ]
  },
  {
   "cell_type": "code",
   "execution_count": 10,
   "metadata": {},
   "outputs": [
    {
     "data": {
      "text/plain": [
       "['https://www.goodreads.com/book/show/35791968-still-me?from_choice=true',\n",
       " 'https://www.goodreads.com/book/show/33590210-an-american-marriage?from_choice=true',\n",
       " 'https://www.goodreads.com/book/show/36373463-us-against-you?from_choice=true',\n",
       " 'https://www.goodreads.com/book/show/39280445-nine-perfect-strangers?from_choice=true',\n",
       " 'https://www.goodreads.com/book/show/38186611-an-absolutely-remarkable-thing?from_choice=true',\n",
       " 'https://www.goodreads.com/book/show/38820047-killing-commendatore?from_choice=true',\n",
       " 'https://www.goodreads.com/book/show/36692478-there-there?from_choice=true',\n",
       " 'https://www.goodreads.com/book/show/34275212-girls-burn-brighter?from_choice=true',\n",
       " 'https://www.goodreads.com/book/show/36723031-all-we-ever-wanted?from_choice=true',\n",
       " 'https://www.goodreads.com/book/show/36082326-every-note-played?from_choice=true',\n",
       " 'https://www.goodreads.com/book/show/35480518-the-female-persuasion?from_choice=true',\n",
       " 'https://www.goodreads.com/book/show/36840397-a-place-for-us?from_choice=true',\n",
       " 'https://www.goodreads.com/book/show/39072220-a-spark-of-light?from_choice=true',\n",
       " 'https://www.goodreads.com/book/show/36203391-my-year-of-rest-and-relaxation?from_choice=true',\n",
       " 'https://www.goodreads.com/book/show/34262106-everything-here-is-beautiful?from_choice=true',\n",
       " 'https://www.goodreads.com/book/show/35187203-the-overstory?from_choice=true',\n",
       " 'https://www.goodreads.com/book/show/35952871-you-think-it-i-ll-say-it?from_choice=true',\n",
       " 'https://www.goodreads.com/book/show/36249638-how-to-walk-away?from_choice=true',\n",
       " 'https://www.goodreads.com/book/show/36723245-the-book-of-essie?from_choice=true',\n",
       " 'https://www.goodreads.com/book/show/36373648-the-mars-room?from_choice=true']"
      ]
     },
     "execution_count": 10,
     "metadata": {},
     "output_type": "execute_result"
    }
   ],
   "source": [
    "#urls for all best fiction books 2018 (for one genre only)\n",
    "# there are 20 books on each of the best of pages\n",
    "fiction__book_list_2018"
   ]
  },
  {
   "cell_type": "code",
   "execution_count": 11,
   "metadata": {},
   "outputs": [],
   "source": [
    "#this pulls urls for every genre\n",
    "soup.find_all('a', {'class':'categoriesList__categoryLink categoriesList__categoryLink--current'})\n",
    "choice_rewards_genre_list_2018 = []\n",
    "for a in soup.find_all('a',{'class':\"categoriesList__categoryLink categoriesList__categoryLink--current\"},  href=True):\n",
    "    choice_rewards_genre_list_2018.append('https://www.goodreads.com' + (a['href']))\n"
   ]
  },
  {
   "cell_type": "code",
   "execution_count": 12,
   "metadata": {},
   "outputs": [
    {
     "data": {
      "text/plain": [
       "['https://www.goodreads.com/choiceawards/best-mystery-thriller-books-2018',\n",
       " 'https://www.goodreads.com/choiceawards/best-historical-fiction-books-2018',\n",
       " 'https://www.goodreads.com/choiceawards/best-fantasy-books-2018',\n",
       " 'https://www.goodreads.com/choiceawards/best-of-the-best-2018',\n",
       " 'https://www.goodreads.com/choiceawards/best-romance-books-2018',\n",
       " 'https://www.goodreads.com/choiceawards/best-science-fiction-books-2018',\n",
       " 'https://www.goodreads.com/choiceawards/best-horror-books-2018',\n",
       " 'https://www.goodreads.com/choiceawards/best-humor-books-2018',\n",
       " 'https://www.goodreads.com/choiceawards/best-nonfiction-books-2018',\n",
       " 'https://www.goodreads.com/choiceawards/best-memoir-autobiography-books-2018',\n",
       " 'https://www.goodreads.com/choiceawards/best-history-biography-books-2018',\n",
       " 'https://www.goodreads.com/choiceawards/best-science-technology-books-2018',\n",
       " 'https://www.goodreads.com/choiceawards/best-food-cookbooks-2018',\n",
       " 'https://www.goodreads.com/choiceawards/best-graphic-novels-comics-2018',\n",
       " 'https://www.goodreads.com/choiceawards/best-poetry-books-2018',\n",
       " 'https://www.goodreads.com/choiceawards/best-debut-author-2018',\n",
       " 'https://www.goodreads.com/choiceawards/best-young-adult-fiction-books-2018',\n",
       " 'https://www.goodreads.com/choiceawards/best-young-adult-fantasy-books-2018',\n",
       " 'https://www.goodreads.com/choiceawards/best-childrens-books-2018',\n",
       " 'https://www.goodreads.com/choiceawards/best-picture-books-2018']"
      ]
     },
     "execution_count": 12,
     "metadata": {},
     "output_type": "execute_result"
    }
   ],
   "source": [
    "choice_rewards_genre_list_2018"
   ]
  },
  {
   "cell_type": "markdown",
   "metadata": {},
   "source": [
    "book_list_2018 is all URLs for the best books of 2018."
   ]
  },
  {
   "cell_type": "code",
   "execution_count": 13,
   "metadata": {},
   "outputs": [],
   "source": [
    "book_list_2018 = []\n",
    "for i in choice_rewards_genre_list_2018:\n",
    "    url = i\n",
    "    r = urllib.request.urlopen(url)\n",
    "    soup = bs(r, 'html.parser')\n",
    "    for a in soup.find_all('a',{\"class\":\"pollAnswer__bookLink\"},  href=True):\n",
    "        book_list_2018.append('https://www.goodreads.com' + (a['href']))"
   ]
  },
  {
   "cell_type": "code",
   "execution_count": 14,
   "metadata": {},
   "outputs": [
    {
     "data": {
      "text/plain": [
       "440"
      ]
     },
     "execution_count": 14,
     "metadata": {},
     "output_type": "execute_result"
    }
   ],
   "source": [
    "book_list_2018 = book_list_2018 + fiction__book_list_2018\n",
    "len(book_list_2018 + fiction__book_list_2018)"
   ]
  },
  {
   "cell_type": "code",
   "execution_count": 15,
   "metadata": {},
   "outputs": [
    {
     "data": {
      "text/plain": [
       "420"
      ]
     },
     "execution_count": 15,
     "metadata": {},
     "output_type": "execute_result"
    }
   ],
   "source": [
    "# this is all urls for the best books of 2018\n",
    "len(book_list_2018)"
   ]
  },
  {
   "cell_type": "code",
   "execution_count": 16,
   "metadata": {},
   "outputs": [
    {
     "data": {
      "text/plain": [
       "'https://www.goodreads.com/book/show/36124936-the-outsider?from_choice=true'"
      ]
     },
     "execution_count": 16,
     "metadata": {},
     "output_type": "execute_result"
    }
   ],
   "source": [
    "book_list_2018[0]"
   ]
  },
  {
   "cell_type": "code",
   "execution_count": 20,
   "metadata": {},
   "outputs": [
    {
     "data": {
      "text/plain": [
       "<span itemprop=\"ratingValue\">\n",
       "  4.07\n",
       "</span>"
      ]
     },
     "execution_count": 20,
     "metadata": {},
     "output_type": "execute_result"
    }
   ],
   "source": [
    "# goodreads rating\n",
    "#testing one book's info\n",
    "link = 'https://www.goodreads.com/book/show/36124936-the-outsider?from_choice=true'\n",
    "page = urllib.request.urlopen(link)\n",
    "\n",
    "soup = bs(page, 'html.parser')\n",
    "\n",
    "soup.find('span',{\"itemprop\":\"ratingValue\"})"
   ]
  },
  {
   "cell_type": "code",
   "execution_count": 59,
   "metadata": {},
   "outputs": [
    {
     "data": {
      "text/plain": [
       "'4.07'"
      ]
     },
     "execution_count": 59,
     "metadata": {},
     "output_type": "execute_result"
    }
   ],
   "source": [
    "get_rating = soup.find('span',{\"itemprop\":\"ratingValue\"})\n",
    "get_rating = get_rating.get_text().replace('\\n', '').replace(' ', '')\n",
    "get_rating"
   ]
  },
  {
   "cell_type": "code",
   "execution_count": 61,
   "metadata": {},
   "outputs": [
    {
     "data": {
      "text/plain": [
       "'The Outsider'"
      ]
     },
     "execution_count": 61,
     "metadata": {},
     "output_type": "execute_result"
    }
   ],
   "source": [
    "get_title = soup.find('h1',{\"id\":\"bookTitle\"})\n",
    "get_title = get_title.get_text().replace('\\n', '').replace('  ', '')\n",
    "get_title"
   ]
  },
  {
   "cell_type": "code",
   "execution_count": 65,
   "metadata": {},
   "outputs": [
    {
     "data": {
      "text/plain": [
       "'Stephen King'"
      ]
     },
     "execution_count": 65,
     "metadata": {},
     "output_type": "execute_result"
    }
   ],
   "source": [
    "get_author = soup.find('span', {'itemprop':\"name\"})\n",
    "get_author = get_author.get_text()\n",
    "get_author"
   ]
  },
  {
   "cell_type": "code",
   "execution_count": 115,
   "metadata": {},
   "outputs": [],
   "source": [
    "get_publisher = soup.find('div', {'id':\"details\"})\n",
    "get_publisher = get_publisher.contents[3].get_text()\n",
    "get_publisher = get_publisher.replace('\\n', '')\n",
    "get_publisher = re.findall(r'(?<=by ).+\\b', get_publisher)[0]"
   ]
  },
  {
   "cell_type": "code",
   "execution_count": 116,
   "metadata": {},
   "outputs": [
    {
     "data": {
      "text/plain": [
       "str"
      ]
     },
     "execution_count": 116,
     "metadata": {},
     "output_type": "execute_result"
    }
   ],
   "source": [
    "type(get_publisher)"
   ]
  },
  {
   "cell_type": "code",
   "execution_count": 117,
   "metadata": {},
   "outputs": [
    {
     "data": {
      "text/plain": [
       "'Scribner'"
      ]
     },
     "execution_count": 117,
     "metadata": {},
     "output_type": "execute_result"
    }
   ],
   "source": [
    "get_publisher"
   ]
  },
  {
   "cell_type": "code",
   "execution_count": 143,
   "metadata": {},
   "outputs": [
    {
     "data": {
      "text/plain": [
       "('May 22nd ', '2018')"
      ]
     },
     "execution_count": 143,
     "metadata": {},
     "output_type": "execute_result"
    }
   ],
   "source": [
    "# ((?<=Published        ).+\\b)(\\d{4})\n",
    "\n",
    "get_date = soup.find('div', {'id':\"details\"})\n",
    "get_date = get_date.contents[3].get_text()\n",
    "get_date = get_date.replace('\\n', '')\n",
    "get_date = re.findall(r'((?<=Published        ).+\\b)(\\d{4})', get_date)[0]\n",
    "get_month_day = get_date[0]\n",
    "get_month = get_date[0].split(' ')[0]\n",
    "get_year = get_date[1]\n",
    "get_date"
   ]
  },
  {
   "cell_type": "code",
   "execution_count": 144,
   "metadata": {
    "scrolled": true
   },
   "outputs": [
    {
     "data": {
      "text/plain": [
       "'May'"
      ]
     },
     "execution_count": 144,
     "metadata": {},
     "output_type": "execute_result"
    }
   ],
   "source": [
    "get_month"
   ]
  },
  {
   "cell_type": "code",
   "execution_count": 145,
   "metadata": {},
   "outputs": [
    {
     "data": {
      "text/plain": [
       "'2018'"
      ]
     },
     "execution_count": 145,
     "metadata": {},
     "output_type": "execute_result"
    }
   ],
   "source": [
    "get_year"
   ]
  },
  {
   "cell_type": "code",
   "execution_count": 142,
   "metadata": {},
   "outputs": [
    {
     "data": {
      "text/plain": [
       "'561'"
      ]
     },
     "execution_count": 142,
     "metadata": {},
     "output_type": "execute_result"
    }
   ],
   "source": [
    "get_pages = soup.find('span', {'itemprop':\"numberOfPages\"})\n",
    "get_pages = get_pages.get_text().split(' ')[0]\n",
    "get_pages"
   ]
  },
  {
   "cell_type": "code",
   "execution_count": 132,
   "metadata": {},
   "outputs": [],
   "source": []
  },
  {
   "cell_type": "code",
   "execution_count": 133,
   "metadata": {},
   "outputs": [],
   "source": []
  },
  {
   "cell_type": "code",
   "execution_count": null,
   "metadata": {},
   "outputs": [],
   "source": []
  }
 ],
 "metadata": {
  "kernelspec": {
   "display_name": "Python 3",
   "language": "python",
   "name": "python3"
  },
  "language_info": {
   "codemirror_mode": {
    "name": "ipython",
    "version": 3
   },
   "file_extension": ".py",
   "mimetype": "text/x-python",
   "name": "python",
   "nbconvert_exporter": "python",
   "pygments_lexer": "ipython3",
   "version": "3.6.5"
  }
 },
 "nbformat": 4,
 "nbformat_minor": 2
}
